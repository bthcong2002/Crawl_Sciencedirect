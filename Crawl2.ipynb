{
 "cells": [
  {
   "cell_type": "code",
   "execution_count": 1,
   "metadata": {},
   "outputs": [
    {
     "name": "stdout",
     "output_type": "stream",
     "text": [
      "Finish import package\n"
     ]
    }
   ],
   "source": [
    "from selenium import webdriver\n",
    "import undetected_chromedriver as uc\n",
    "from selenium.webdriver.common.by import By\n",
    "from selenium.webdriver.common.keys import Keys\n",
    "from selenium.webdriver.chrome.service import Service\n",
    "from webdriver_manager.chrome import ChromeDriverManager\n",
    "from selenium_stealth import stealth\n",
    "import random\n",
    "import re\n",
    "\n",
    "import pandas as pd\n",
    "from bs4 import BeautifulSoup\n",
    "import requests\n",
    "\n",
    "from time import sleep\n",
    "import random\n",
    "print('Finish import package')\n",
    "sleep(1)"
   ]
  },
  {
   "cell_type": "code",
   "execution_count": 2,
   "metadata": {},
   "outputs": [
    {
     "name": "stdout",
     "output_type": "stream",
     "text": [
      "Cloudflare not detected.\n"
     ]
    }
   ],
   "source": [
    "import cloudscraper\n",
    "\n",
    "scraper = cloudscraper.create_scraper()\n",
    "\n",
    "# Make a request to a website that is protected by Cloudflare.\n",
    "response = scraper.get(\"https://www.sciencedirect.com/browse/journals-and-books?contentType=JL\")\n",
    "\n",
    "# Check if the response is a Cloudflare challenge page.\n",
    "if response.status_code == 503:\n",
    "  print(\"Cloudflare challenge detected.\")\n",
    "else:\n",
    "  print(\"Cloudflare not detected.\")\n",
    "\n",
    "sleep(4)"
   ]
  },
  {
   "cell_type": "code",
   "execution_count": 3,
   "metadata": {},
   "outputs": [
    {
     "name": "stdout",
     "output_type": "stream",
     "text": [
      ">>>>  Get link Successfully  >>>>\n"
     ]
    }
   ],
   "source": [
    "options = webdriver.ChromeOptions()\n",
    "options.add_argument(\"start-maximized\")\n",
    "options.add_argument(\"--incognito\")\n",
    "\n",
    "options.add_experimental_option(\"excludeSwitches\", [\"enable-automation\"]) \n",
    "options.add_experimental_option('useAutomationExtension', False)\n",
    "\n",
    "# Add argument with proxy infos:\n",
    "# port = config.rand_port()\n",
    "\n",
    "web = \"https://www.sciencedirect.com/browse/journals-and-books?contentType=JL\"\n",
    "path = \"C:/WebDriver/chromedriver.exe\"\n",
    "\n",
    "\n",
    "driver_service = Service(executable_path=path)\n",
    "driver = webdriver.Chrome(service=driver_service) \n",
    "\n",
    "stealth(driver,\n",
    "        languages=[\"en-US\", \"en\"],\n",
    "        vendor=\"Google Inc.\",\n",
    "        platform=\"Win32\",\n",
    "        webgl_vendor=\"Intel Inc.\",\n",
    "        renderer=\"Intel Iris OpenGL Engine\",\n",
    "        fix_hairline=True,\n",
    "        )\n",
    "\n",
    "driver.get(web) \n",
    "print('>>>>  Get link Successfully  >>>>')\n",
    "sleep(3)"
   ]
  },
  {
   "cell_type": "code",
   "execution_count": 4,
   "metadata": {},
   "outputs": [],
   "source": [
    "list_names = []\n",
    "list_links = []\n",
    "list_ISSNs = []\n",
    "list_Impact_Factors = []"
   ]
  },
  {
   "cell_type": "code",
   "execution_count": 5,
   "metadata": {},
   "outputs": [
    {
     "name": "stdout",
     "output_type": "stream",
     "text": [
      "Get data - page: 47\n",
      "Page 47 --  Done\n",
      "Get data - page: 48\n",
      "Page 48 --  Done\n",
      "Get data - page: 49\n",
      "Page 49 --  Done\n"
     ]
    }
   ],
   "source": [
    "for page in range(47,50):\n",
    "    driver.get(f\"https://www.sciencedirect.com/browse/journals-and-books?page={page}&contentType=JL\")\n",
    "    page_source = BeautifulSoup(driver.page_source)\n",
    "    print('Get data - page:',page)\n",
    "\n",
    "    magazine_names = page_source.find_all(name='a',attrs={'class':'anchor js-publication-title anchor-default'})\n",
    "    for name in magazine_names:\n",
    "        a = name.find(name='span', attrs = {'class':'anchor-text'})\n",
    "        list_names.append(a.text.strip())\n",
    "        list_links.append('https://www.sciencedirect.com'+ name['href'])\n",
    "    print(f'Page {page} --  Done')\n",
    "    sleep(1)"
   ]
  },
  {
   "cell_type": "code",
   "execution_count": 21,
   "metadata": {},
   "outputs": [
    {
     "name": "stdout",
     "output_type": "stream",
     "text": [
      "216\n"
     ]
    }
   ],
   "source": [
    "len(list_names)"
   ]
  },
  {
   "cell_type": "code",
   "execution_count": 22,
   "metadata": {},
   "outputs": [
    {
     "name": "stdout",
     "output_type": "stream",
     "text": [
      "216\n"
     ]
    }
   ],
   "source": [
    "len(list_links)"
   ]
  },
  {
   "cell_type": "code",
   "execution_count": 8,
   "metadata": {},
   "outputs": [],
   "source": [
    "for i in list_links[:]: \n",
    "    driver.get(i)\n",
    "    page_source = BeautifulSoup(driver.page_source)\n",
    "\n",
    "    # ISSN  \n",
    "    elems_scores = page_source.find(name='div', attrs={'class':'js-issn text-s'})\n",
    "    # print(elems_score)\n",
    "    elems = [elems_score.text for elems_score in elems_scores]\n",
    "    list_ISSNs.append(elems)\n",
    "\n",
    "    # Impactors\n",
    "    try:\n",
    "        imp = driver.find_element('xpath','//*[@id=\"react-root\"]/div/div/div/main/div[1]/div/section/div[1]/div/div[2]/div[2]/div[2]/button/span/span[1]').text\n",
    "        list_Impact_Factors.append(imp)\n",
    "    except:\n",
    "        list_Impact_Factors.append(\"\")\n",
    "    sleep(1)"
   ]
  },
  {
   "cell_type": "code",
   "execution_count": 23,
   "metadata": {},
   "outputs": [
    {
     "name": "stdout",
     "output_type": "stream",
     "text": [
      "216\n"
     ]
    }
   ],
   "source": [
    "len(list_ISSNs)"
   ]
  },
  {
   "cell_type": "code",
   "execution_count": 11,
   "metadata": {},
   "outputs": [],
   "source": [
    "# Khởi tạo danh sách kết quả\n",
    "issn_list = []\n",
    "online_issn_list = []\n",
    "linking_issn_list = []\n",
    "print_issn_list = []"
   ]
  },
  {
   "cell_type": "code",
   "execution_count": 12,
   "metadata": {},
   "outputs": [],
   "source": [
    "# Biểu thức chính quy để trích xuất phần sau của \"ISSN\", \"Online ISSN\", \"Linking ISSN\", \"Print ISSN\"\n",
    "pattern = r'((ISSN|Online ISSN|Linking ISSN|Print ISSN): (\\d{4}-\\d{4}))'"
   ]
  },
  {
   "cell_type": "code",
   "execution_count": 13,
   "metadata": {},
   "outputs": [],
   "source": [
    "# Xử lý danh sách\n",
    "for sublist in list_ISSNs:\n",
    "    issn = \"\"\n",
    "    online_issn = \"\"\n",
    "    linking_issn = \"\"\n",
    "    print_issn = \"\"\n",
    "    \n",
    "    for item in sublist:\n",
    "        match = re.search(pattern, item)\n",
    "        if match:\n",
    "            if match.group(2) == \"ISSN\":\n",
    "                issn = match.group(3)\n",
    "            elif match.group(2) == \"Online ISSN\":\n",
    "                online_issn = match.group(3)\n",
    "            elif match.group(2) == \"Linking ISSN\":\n",
    "                linking_issn = match.group(3)\n",
    "            elif match.group(2) == \"Print ISSN\":\n",
    "                print_issn = match.group(3)\n",
    "    \n",
    "    issn_list.append(issn)\n",
    "    online_issn_list.append(online_issn)\n",
    "    linking_issn_list.append(linking_issn)\n",
    "    print_issn_list.append(print_issn)"
   ]
  },
  {
   "cell_type": "code",
   "execution_count": 24,
   "metadata": {},
   "outputs": [
    {
     "name": "stdout",
     "output_type": "stream",
     "text": [
      "ISSN: 216\n",
      "Online ISSN: 216\n",
      "Linking ISSN: 216\n",
      "Print ISSN: 216\n"
     ]
    }
   ],
   "source": [
    "print(f\"ISSN: {len(issn_list)}\")\n",
    "print(f\"Online ISSN: {len(online_issn_list)}\")\n",
    "print(f\"Linking ISSN: {len(linking_issn_list)}\")\n",
    "print(f\"Print ISSN: {len(print_issn_list)}\")\n",
    "sleep(2)"
   ]
  },
  {
   "cell_type": "code",
   "execution_count": 25,
   "metadata": {},
   "outputs": [
    {
     "name": "stdout",
     "output_type": "stream",
     "text": [
      "216\n"
     ]
    }
   ],
   "source": [
    "len(list_Impact_Factors[:])"
   ]
  },
  {
   "cell_type": "code",
   "execution_count": 17,
   "metadata": {},
   "outputs": [],
   "source": [
    "driver.quit()"
   ]
  },
  {
   "cell_type": "code",
   "execution_count": 18,
   "metadata": {},
   "outputs": [],
   "source": [
    "data = pd.DataFrame({\n",
    "    'Tên tạp chí' : list_names,\n",
    "    'ISSN' : issn_list,\n",
    "    'eISSN': online_issn_list,\n",
    "    'Linking ISSN': linking_issn_list,\n",
    "    'Print ISSN': print_issn_list,\n",
    "    'Impact Factor': list_Impact_Factors\n",
    "})"
   ]
  },
  {
   "cell_type": "code",
   "execution_count": null,
   "metadata": {},
   "outputs": [],
   "source": [
    "# excel_path = r\"C:\\Project's Cong\\HKDN UEH\\data.xlsx\"\n",
    "\n",
    "# data.to_excel(excel_path, index=False)"
   ]
  },
  {
   "cell_type": "code",
   "execution_count": 19,
   "metadata": {},
   "outputs": [],
   "source": [
    "import xlwings as xw\n",
    "\n",
    "#--------------------------------------------------\n",
    "# ADJUST THE FOLLOWING:\n",
    "wb_name = \"C:\\Project's Cong\\HKDN UEH\\data.xlsx\"\n",
    "sheet_name = \"Sheet1\"\n",
    "df_mapping = {\"A4602\": data}\n",
    "#--------------------------------------------------\n",
    "\n",
    "# Open Excel in background\n",
    "with xw.App(visible=False) as app:\n",
    "    wb = app.books.open(wb_name)\n",
    "\n",
    "    # Add sheet if it does not exist\n",
    "    current_sheets = [sheet.name for sheet in wb.sheets]\n",
    "    if sheet_name not in current_sheets:\n",
    "        wb.sheets.add(sheet_name)\n",
    "\n",
    "    # Write dataframe to cell range\n",
    "    for cell_target, df in df_mapping.items():\n",
    "        wb.sheets(sheet_name).range(cell_target).options(pd.DataFrame, index=False).value = df\n",
    "\n",
    "    wb.save()"
   ]
  }
 ],
 "metadata": {
  "kernelspec": {
   "display_name": "base",
   "language": "python",
   "name": "python3"
  },
  "language_info": {
   "codemirror_mode": {
    "name": "ipython",
    "version": 3
   },
   "file_extension": ".py",
   "mimetype": "text/x-python",
   "name": "python",
   "nbconvert_exporter": "python",
   "pygments_lexer": "ipython3",
   "version": "3.9.13"
  },
  "orig_nbformat": 4
 },
 "nbformat": 4,
 "nbformat_minor": 2
}
